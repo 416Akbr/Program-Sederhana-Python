{
 "cells": [
  {
   "cell_type": "markdown",
   "metadata": {},
   "source": [
    "# IF"
   ]
  },
  {
   "cell_type": "code",
   "execution_count": 2,
   "metadata": {},
   "outputs": [
    {
     "name": "stdout",
     "output_type": "stream",
     "text": [
      "--IF berarti jika maka--\n",
      "Kamu kompeten\n",
      "\n",
      "--penggunaan IF----\n",
      "Tidak sama\n"
     ]
    }
   ],
   "source": [
    "print (\"--IF berarti jika maka--\")\n",
    "a=76\n",
    "if a >=75:\n",
    "    print(\"Kamu kompeten\")\n",
    "else:\n",
    "    print(\"Kamu belum kompeten\")\n",
    "\n",
    "print (\"\\n--penggunaan IF----\")\n",
    "n=10\n",
    "if n ==1:\n",
    "    print (\"Nilai sama\")\n",
    "else:\n",
    "    print (\"Tidak sama\")"
   ]
  },
  {
   "cell_type": "markdown",
   "metadata": {},
   "source": [
    "# IfElse"
   ]
  },
  {
   "cell_type": "code",
   "execution_count": 3,
   "metadata": {},
   "outputs": [
    {
     "name": "stdout",
     "output_type": "stream",
     "text": [
      "---Selain itu/Lawan dari If---\n",
      "--Contoh 1, Kompeten dan Belum Kompeten--\n",
      "Kamu Belum Kompeten\n",
      "\n",
      "--Contoh 2, Benar Salah--\n",
      "Salah\n",
      "\n",
      "--Contoh 3, Ganjil Genap--\n",
      "Ganjil\n",
      "\n",
      "--Contoh 4, Negatif, Nol, dan Bulat--\n",
      "Positif\n",
      "Positif\n",
      "\n",
      "--Contoh 5, Libur dan Masuk--\n",
      "Libur\n"
     ]
    }
   ],
   "source": [
    "print(\"---Selain itu/Lawan dari If---\")\n",
    "print(\"--Contoh 1, Kompeten dan Belum Kompeten--\")\n",
    "a=72\n",
    "if a>=75:\n",
    "    print(\"Kamu Kompeten\")\n",
    "else:\n",
    "    print(\"Kamu Belum Kompeten\")\n",
    "print()\n",
    "\n",
    "\n",
    "print(\"--Contoh 2, Benar Salah--\")\n",
    "b=0\n",
    "if b ==1:\n",
    "    print(\"Benar\")\n",
    "if b ==0:\n",
    "    print(\"Salah\")\n",
    "print()\n",
    "\n",
    "\n",
    "print(\"--Contoh 3, Ganjil Genap--\")\n",
    "c = 1\n",
    "if c%2 ==0:\n",
    "    print(\"Genap\")\n",
    "else:\n",
    "    print(\"Ganjil\")\n",
    "print()\n",
    "\n",
    "\n",
    "print(\"--Contoh 4, Negatif, Nol, dan Bulat--\")\n",
    "e = 3\n",
    "if e<0:\n",
    "    print(\"Negatif\")\n",
    "else:\n",
    "    print(\"Positif\")\n",
    "\n",
    "d = 100\n",
    "if d <0:\n",
    "    print(\"Negatif\")\n",
    "if d ==0:\n",
    "    print(\"Nol\")\n",
    "if d>0:\n",
    "    print(\"Positif\")\n",
    "print()\n",
    "\n",
    "\n",
    "print(\"--Contoh 5, Libur dan Masuk--\")\n",
    "hari = \"merah\"\n",
    "if hari == \"merah\":\n",
    "    print(\"Libur\")\n",
    "else:\n",
    "    print(\"Masuk\")"
   ]
  },
  {
   "cell_type": "markdown",
   "metadata": {},
   "source": [
    "# Elif"
   ]
  },
  {
   "cell_type": "code",
   "execution_count": 4,
   "metadata": {},
   "outputs": [
    {
     "name": "stdout",
     "output_type": "stream",
     "text": [
      "--selain itu jika--\n",
      "--contoh 1, negatif, nol dan bulat menggunakan elif--\n",
      "Nol\n",
      "\n",
      "--Contoh 2, K, BK, Pas--\n",
      "Kompeten\n",
      "\n",
      "--Contoh 3, Nilai A, B, C, D\n",
      "A\n"
     ]
    }
   ],
   "source": [
    "print(\"--selain itu jika--\")\n",
    "\n",
    "print(\"--contoh 1, negatif, nol dan bulat menggunakan elif--\")\n",
    "\n",
    "d=0\n",
    "if d <0:\n",
    "    print(\"Negatif\")\n",
    "elif d >0:\n",
    "    print(\"Positif\")\n",
    "else:\n",
    "    print(\"Nol\")\n",
    "print()\n",
    "\n",
    "\n",
    "print(\"--Contoh 2, K, BK, Pas--\")\n",
    "nilai=75\n",
    "if nilai >=75:\n",
    "    print(\"Kompeten\")\n",
    "elif nilai <75:\n",
    "    print(\"Belum Kompeten\")\n",
    "else:\n",
    "    print(\"Pas\")\n",
    "print()\n",
    "\n",
    "\n",
    "print(\"--Contoh 3, Nilai A, B, C, D\")\n",
    "n = 100\n",
    "if n >=80: #80-100\n",
    "    print(\"A\")\n",
    "elif n >=75: #75-79\n",
    "    print(\"B\")\n",
    "elif n >=70: #70-74\n",
    "    print(\"C\")\n",
    "else: #<=69\n",
    "    print(\"D\")"
   ]
  },
  {
   "cell_type": "markdown",
   "metadata": {},
   "source": [
    "# KOMENTAR"
   ]
  },
  {
   "cell_type": "code",
   "execution_count": 5,
   "metadata": {},
   "outputs": [
    {
     "name": "stdout",
     "output_type": "stream",
     "text": [
      "selamat datang\n",
      "python\n"
     ]
    }
   ],
   "source": [
    "#cetak pada python\n",
    "print (\"selamat datang\") #cetak selamat datang\n",
    "#tanda pagar menandakan penggunaan komentar pada pyhton \n",
    "#kita bisa membedakan penggunaan komentar pada setiap bahasa pemograman\n",
    "\n",
    "\"\"\"kutip 3 pada komentar\"\"\"\n",
    "\n",
    "print(\"python\")"
   ]
  },
  {
   "cell_type": "markdown",
   "metadata": {},
   "source": [
    "# LOOPING"
   ]
  },
  {
   "cell_type": "code",
   "execution_count": 6,
   "metadata": {},
   "outputs": [
    {
     "name": "stdout",
     "output_type": "stream",
     "text": [
      "---------FOR---------\n",
      "1\n",
      "2\n",
      "3\n",
      "---------WHILE---------\n",
      "1\n",
      "2\n",
      "3\n",
      "4\n",
      "5\n",
      "6\n",
      "7\n",
      "8\n",
      "9\n"
     ]
    }
   ],
   "source": [
    "print (\"---------FOR---------\")\n",
    "\n",
    "for a in[1,2,3]:\n",
    "    print(a)\n",
    "\n",
    "print (\"---------WHILE---------\")\n",
    "b = 1\n",
    "while b<10:\n",
    "    print(b)\n",
    "    b+=1"
   ]
  },
  {
   "cell_type": "markdown",
   "metadata": {},
   "source": [
    "# NILAI"
   ]
  },
  {
   "cell_type": "code",
   "execution_count": 7,
   "metadata": {},
   "outputs": [
    {
     "name": "stdout",
     "output_type": "stream",
     "text": [
      "--Contoh 3, Nilai A, B, C, D--\n",
      "A\n"
     ]
    }
   ],
   "source": [
    "print(\"--Contoh 3, Nilai A, B, C, D--\")\n",
    "n==55\n",
    "if n > 80: #80-100\n",
    "    print(\"A\")\n",
    "elif n >= 75: #75-79\n",
    "    print(\"B\")\n",
    "elif n >=70: #70-74\n",
    "    print(\"C\")\n",
    "else: #<=69\n",
    "    print(\"D\")"
   ]
  },
  {
   "cell_type": "markdown",
   "metadata": {},
   "source": [
    "# NILAI 2"
   ]
  },
  {
   "cell_type": "code",
   "execution_count": 10,
   "metadata": {},
   "outputs": [
    {
     "name": "stdout",
     "output_type": "stream",
     "text": [
      "Masukan Nilai: 77\n",
      "B\n"
     ]
    }
   ],
   "source": [
    "nil = int(input(\"Masukan Nilai: \"))\n",
    "if nil >=80:\n",
    "    print(\"A\")\n",
    "else:\n",
    "    print(\"B\")"
   ]
  },
  {
   "cell_type": "markdown",
   "metadata": {},
   "source": [
    "# OPERATOR"
   ]
  },
  {
   "cell_type": "code",
   "execution_count": 11,
   "metadata": {},
   "outputs": [
    {
     "name": "stdout",
     "output_type": "stream",
     "text": [
      "--Operator Aritmatika\n",
      "Tambah  (+) 12\n",
      "Kurang  (-) 13\n",
      "Kali    (*) 24\n",
      "Pangkat (**) 4\n",
      "Bagi    (/) 1.6\n",
      "Mod     (%) 0\n",
      "\n",
      "--Operator Pembanding\n",
      "Sama Dengan             (==)\n",
      "Lebih Besar             (>)\n",
      "Lebih Kecil             (<)\n",
      "Lebih Besar Sama Dengan (>=)\n",
      "Lebih Kecil Sama Dengan (<=)\n",
      "Tidak Sama Dengan       (!=)\n",
      "\n",
      "--Operator Logika\n",
      "Not (not = Bukan)\n",
      "And (and = Semua Kondisi Terpenuhi)\n",
      "Or  (or  = Salah Satu Kondisi Terpenuhi)\n"
     ]
    }
   ],
   "source": [
    "print(\"--Operator Aritmatika\")\n",
    "print(\"Tambah  (+)\", 10+2)\n",
    "print(\"Kurang  (-)\", 14-1)\n",
    "print(\"Kali    (*)\", 12*2)\n",
    "print(\"Pangkat (**)\", 2**2)\n",
    "print(\"Bagi    (/)\", 8/5)\n",
    "print(\"Mod     (%)\", 6%2)\n",
    "print()\n",
    "\n",
    "print(\"--Operator Pembanding\")\n",
    "print(\"Sama Dengan             (==)\")\n",
    "print(\"Lebih Besar             (>)\")\n",
    "print(\"Lebih Kecil             (<)\")\n",
    "print(\"Lebih Besar Sama Dengan (>=)\")\n",
    "print(\"Lebih Kecil Sama Dengan (<=)\")\n",
    "print(\"Tidak Sama Dengan       (!=)\")\n",
    "print()\n",
    "\n",
    "print(\"--Operator Logika\")\n",
    "print(\"Not (not = Bukan)\")\n",
    "print(\"And (and = Semua Kondisi Terpenuhi)\")\n",
    "print(\"Or  (or  = Salah Satu Kondisi Terpenuhi)\")"
   ]
  },
  {
   "cell_type": "markdown",
   "metadata": {},
   "source": [
    "# PRINT"
   ]
  },
  {
   "cell_type": "code",
   "execution_count": 12,
   "metadata": {},
   "outputs": [
    {
     "name": "stdout",
     "output_type": "stream",
     "text": [
      "Selamat Datang\n",
      "Belajar Bahasa Pemrograman Python\n",
      "Hello World!\n"
     ]
    }
   ],
   "source": [
    "print (\"Selamat Datang\")\n",
    "print (\"Belajar Bahasa Pemrograman Python\")\n",
    "\n",
    "print (\"Hello World!\")"
   ]
  },
  {
   "cell_type": "markdown",
   "metadata": {},
   "source": [
    "# PRINT 2"
   ]
  },
  {
   "cell_type": "code",
   "execution_count": 13,
   "metadata": {},
   "outputs": [
    {
     "name": "stdout",
     "output_type": "stream",
     "text": [
      "Selamat Datang\n",
      "Selamat Datang\n",
      "Selamat Datang\n",
      "Selamat Datang\n",
      "Selamat Datang\n",
      "Selamat Datang\n",
      "Selamat Datang\n",
      "Selamat Datang\n"
     ]
    }
   ],
   "source": [
    "print('Selamat Datang')\n",
    "print(\"Selamat Datang\")\n",
    "print('Selamat Datang')\n",
    "print(\"Selamat Datang\")\n",
    "print('Selamat Datang')\n",
    "print(\"Selamat Datang\")\n",
    "print('Selamat Datang')\n",
    "print(\"Selamat Datang\")"
   ]
  },
  {
   "cell_type": "markdown",
   "metadata": {},
   "source": [
    "# TYPEDATA"
   ]
  },
  {
   "cell_type": "code",
   "execution_count": 21,
   "metadata": {},
   "outputs": [
    {
     "name": "stdout",
     "output_type": "stream",
     "text": [
      "Selamat Datang di SMK Wikrama 2 Bogor\n",
      "Hasil dari 1 + 2 =  3\n"
     ]
    }
   ],
   "source": [
    "#BELAJAR PYTHON\n",
    "\"\"\"Belajar Python\"\"\"\n",
    "\n",
    "a = 1\n",
    "b = 2\n",
    "c = \"Selamat Datang di\"\n",
    "d = \"SMK Wikrama\"\n",
    "e = \"Bogor\"\n",
    "\n",
    "#Selamat Datang di SMK Wikrama Bogor\n",
    "print(c, d, b, e)\n",
    "\n",
    "#Hasil dari 1+2=3\n",
    "print(\"Hasil dari %d + %d = \" %(a, b), a+b)"
   ]
  },
  {
   "cell_type": "markdown",
   "metadata": {},
   "source": [
    "# VARIABLE"
   ]
  },
  {
   "cell_type": "code",
   "execution_count": 22,
   "metadata": {},
   "outputs": [
    {
     "name": "stdout",
     "output_type": "stream",
     "text": [
      "9\n",
      "14\n",
      "5\n",
      "3.5\n",
      "1\n",
      "49\n"
     ]
    }
   ],
   "source": [
    "#OPERATOR ARITMATIKA\n",
    "a = 7\n",
    "b = 2\n",
    "print(a+b) #Hasilnya 9\n",
    "print(a*b) #Hasilnya 14\n",
    "print(a-b) #Hasilnya 5\n",
    "print(a/b) #Hasilnya 3.5\n",
    "print(a%b) #Hasilnya 1\n",
    "print(a**b) #Hasilnya 49"
   ]
  },
  {
   "cell_type": "markdown",
   "metadata": {},
   "source": [
    "# RUMUS BANGUN DATAR DAN BANGUN RUANG"
   ]
  },
  {
   "cell_type": "markdown",
   "metadata": {},
   "source": [
    "#   "
   ]
  },
  {
   "cell_type": "markdown",
   "metadata": {},
   "source": [
    "# BANGUN DATAR\n",
    "# -- Belah Ketupat --"
   ]
  },
  {
   "cell_type": "code",
   "execution_count": 24,
   "metadata": {},
   "outputs": [
    {
     "name": "stdout",
     "output_type": "stream",
     "text": [
      "diameter 1: 8\n",
      "diameter 2: 5\n",
      "sisi :10\n",
      "luas : 20.0\n",
      "keliling : 40\n"
     ]
    }
   ],
   "source": [
    "d1 = int(input(\"diameter 1: \"))\n",
    "d2 = int(input(\"diameter 2: \"))\n",
    "sisi = int(input(\"sisi :\"))\n",
    "\n",
    "luas = (d1*d2) / 2\n",
    "keliling = sisi * 4\n",
    "\n",
    "print(\"luas :\", luas)\n",
    "print(\"keliling :\", keliling)"
   ]
  },
  {
   "cell_type": "markdown",
   "metadata": {},
   "source": [
    "# DUA BILANGAN"
   ]
  },
  {
   "cell_type": "code",
   "execution_count": 25,
   "metadata": {},
   "outputs": [
    {
     "name": "stdout",
     "output_type": "stream",
     "text": [
      "Masukan Angka Pertama: 5\n",
      "Masukan Angka Kedua  : 2\n",
      "Jumlah 5+2 adalah 7.0\n"
     ]
    }
   ],
   "source": [
    "bil1 = int(input(\"Masukan Angka Pertama: \"))\n",
    "bil2 = int(input(\"Masukan Angka Kedua  : \"))\n",
    "\n",
    "jumlah = float(bil1) + float(bil2)\n",
    "\n",
    "print(\"Jumlah {0}+{1} adalah {2}\" .format(bil1, bil2, jumlah))"
   ]
  },
  {
   "cell_type": "markdown",
   "metadata": {},
   "source": [
    "# JAJAR GENJANG"
   ]
  },
  {
   "cell_type": "code",
   "execution_count": 26,
   "metadata": {},
   "outputs": [
    {
     "name": "stdout",
     "output_type": "stream",
     "text": [
      "Panjang : 8\n",
      "Lebar   : 2\n",
      "Tinggi  : 5\n",
      "Luas     = 10\n",
      "Keliling = 20\n"
     ]
    }
   ],
   "source": [
    "panjang = int(input(\"Panjang : \"))\n",
    "lebar = int(input(\"Lebar   : \"))\n",
    "tinggi = int(input(\"Tinggi  : \"))\n",
    "\n",
    "luas = lebar * tinggi\n",
    "keliling = (2*panjang) + (2*lebar)\n",
    "\n",
    "print(\"Luas     =\", luas)\n",
    "print(\"Keliling =\", keliling)"
   ]
  },
  {
   "cell_type": "markdown",
   "metadata": {},
   "source": [
    "# LAYANG - LAYANG"
   ]
  },
  {
   "cell_type": "code",
   "execution_count": 27,
   "metadata": {},
   "outputs": [
    {
     "name": "stdout",
     "output_type": "stream",
     "text": [
      "Panjang    : 2\n",
      "Lebar      : 10\n",
      "Diameter 1 : 14\n",
      "Diameter 2 : 7\n",
      "Luas       =  49.0\n",
      "Keliling   =  24\n"
     ]
    }
   ],
   "source": [
    "panjang = int(input(\"Panjang    : \"))\n",
    "lebar = int(input(\"Lebar      : \"))\n",
    "d1 = int(input(\"Diameter 1 : \"))\n",
    "d2 = int(input(\"Diameter 2 : \"))\n",
    "\n",
    "luas = (d1*d2) / 2\n",
    "keliling = (2*panjang) + (2*lebar)\n",
    "\n",
    "print(\"Luas       = \", luas)\n",
    "print(\"Keliling   = \", keliling)"
   ]
  },
  {
   "cell_type": "markdown",
   "metadata": {},
   "source": [
    "# LINGKARAN"
   ]
  },
  {
   "cell_type": "code",
   "execution_count": 28,
   "metadata": {},
   "outputs": [
    {
     "name": "stdout",
     "output_type": "stream",
     "text": [
      "Jari-Jari : 7\n",
      "Diameter  : 14\n",
      "Luas      = 483.1204\n",
      "Keliling  = 43.96\n"
     ]
    }
   ],
   "source": [
    "jariJari = int(input(\"Jari-Jari : \"))\n",
    "diameter = int(input(\"Diameter  : \"))\n",
    "\n",
    "print(\"Luas      =\", (3.14*jariJari)**2)\n",
    "print(\"Keliling  =\", 2*3.14*jariJari)"
   ]
  },
  {
   "cell_type": "markdown",
   "metadata": {},
   "source": [
    "# PERSEGI"
   ]
  },
  {
   "cell_type": "code",
   "execution_count": 29,
   "metadata": {},
   "outputs": [
    {
     "name": "stdout",
     "output_type": "stream",
     "text": [
      "Masukan Sisi : 90\n",
      "Luas         = 8100\n",
      "Keliling     = 360\n"
     ]
    }
   ],
   "source": [
    "sisi = int(input(\"Masukan Sisi : \"))\n",
    "\n",
    "luas = sisi * sisi\n",
    "keliling = sisi * 4\n",
    "\n",
    "print(\"Luas         =\", luas)\n",
    "print(\"Keliling     =\", keliling)"
   ]
  },
  {
   "cell_type": "markdown",
   "metadata": {},
   "source": [
    "# PERSEGI PANJANG"
   ]
  },
  {
   "cell_type": "code",
   "execution_count": 30,
   "metadata": {},
   "outputs": [
    {
     "name": "stdout",
     "output_type": "stream",
     "text": [
      "Panjang  : 8\n",
      "Lebar    : 91\n",
      "Luas     = 728\n",
      "Keliling = 198\n"
     ]
    }
   ],
   "source": [
    "panjang = int(input(\"Panjang  : \"))\n",
    "lebar = int(input(\"Lebar    : \"))\n",
    "\n",
    "luas = panjang * lebar\n",
    "keliling = (2*panjang) + (2*lebar)\n",
    "\n",
    "print(\"Luas     =\", luas)\n",
    "print(\"Keliling =\", keliling)"
   ]
  },
  {
   "cell_type": "markdown",
   "metadata": {},
   "source": [
    "# SEGITIGA"
   ]
  },
  {
   "cell_type": "code",
   "execution_count": 31,
   "metadata": {},
   "outputs": [
    {
     "name": "stdout",
     "output_type": "stream",
     "text": [
      "Alas   : 12\n",
      "Tinggi : 6\n",
      "Lebar  : 2\n",
      "Luas Segitiga Adalah     :  36.0\n",
      "Keliling Segitiga Adalah :  20\n"
     ]
    }
   ],
   "source": [
    "alas = int(input(\"Alas   : \"))\n",
    "tinggi = int(input(\"Tinggi : \"))\n",
    "lebar = int(input(\"Lebar  : \"))\n",
    "\n",
    "keliling = alas+tinggi+lebar\n",
    "luas = (alas*tinggi)/2\n",
    "\n",
    "print(\"Luas Segitiga Adalah     : \", luas)\n",
    "print(\"Keliling Segitiga Adalah : \", keliling)"
   ]
  },
  {
   "cell_type": "markdown",
   "metadata": {},
   "source": [
    "# TRAPESIUM"
   ]
  },
  {
   "cell_type": "code",
   "execution_count": 32,
   "metadata": {},
   "outputs": [
    {
     "name": "stdout",
     "output_type": "stream",
     "text": [
      "Sisi 1   : 4\n",
      "Sisi 2   : 3\n",
      "Sisi 3   : 3\n",
      "Tinggi   : 3\n",
      "Luas     =  10.5\n",
      "Keliling = 13\n"
     ]
    }
   ],
   "source": [
    "sisi1 = int(input(\"Sisi 1   : \"))\n",
    "sisi2 = int(input(\"Sisi 2   : \"))\n",
    "sisi3 = int(input(\"Sisi 3   : \"))\n",
    "tinggi = int(input(\"Tinggi   : \"))\n",
    "\n",
    "luas = (sisi1+sisi2) * tinggi / 2\n",
    "keliling = sisi1+sisi2+sisi3+tinggi\n",
    "\n",
    "print(\"Luas     = \", luas)\n",
    "print(\"Keliling =\", keliling)"
   ]
  },
  {
   "cell_type": "markdown",
   "metadata": {},
   "source": [
    "# BANGUN RUANG\n",
    "# -- BALOK --"
   ]
  },
  {
   "cell_type": "code",
   "execution_count": 33,
   "metadata": {},
   "outputs": [
    {
     "name": "stdout",
     "output_type": "stream",
     "text": [
      "Panjang : 65\n",
      "Lebar   : 2\n",
      "Tinggi  : 1\n",
      "Luas    = 394\n",
      "Volume  = 130\n"
     ]
    }
   ],
   "source": [
    "panjang = int(input(\"Panjang : \"))\n",
    "lebar = int(input(\"Lebar   : \"))\n",
    "tinggi = int(input(\"Tinggi  : \"))\n",
    "\n",
    "luas = 2 * (panjang*lebar + panjang*tinggi + lebar*tinggi)\n",
    "volume = panjang * lebar * tinggi\n",
    "\n",
    "print(\"Luas    =\", luas)\n",
    "print(\"Volume  =\", volume)"
   ]
  },
  {
   "cell_type": "markdown",
   "metadata": {},
   "source": [
    "# KUBUS"
   ]
  },
  {
   "cell_type": "code",
   "execution_count": 34,
   "metadata": {},
   "outputs": [
    {
     "name": "stdout",
     "output_type": "stream",
     "text": [
      "Rusuk  : 34\n",
      "Luas   = 6936\n",
      "Volume = 39304\n"
     ]
    }
   ],
   "source": [
    "rusuk = int(input(\"Rusuk  : \"))\n",
    "\n",
    "print(\"Luas   =\", 6 * (rusuk**2))\n",
    "print(\"Volume =\", rusuk * rusuk * rusuk)"
   ]
  },
  {
   "cell_type": "code",
   "execution_count": null,
   "metadata": {},
   "outputs": [],
   "source": []
  }
 ],
 "metadata": {
  "kernelspec": {
   "display_name": "Python 3",
   "language": "python",
   "name": "python3"
  },
  "language_info": {
   "codemirror_mode": {
    "name": "ipython",
    "version": 3
   },
   "file_extension": ".py",
   "mimetype": "text/x-python",
   "name": "python",
   "nbconvert_exporter": "python",
   "pygments_lexer": "ipython3",
   "version": "3.7.1"
  }
 },
 "nbformat": 4,
 "nbformat_minor": 2
}
